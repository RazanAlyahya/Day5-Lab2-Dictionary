{
 "cells": [
  {
   "cell_type": "code",
   "execution_count": 117,
   "id": "6e4a788f",
   "metadata": {
    "scrolled": true
   },
   "outputs": [
    {
     "name": "stdout",
     "output_type": "stream",
     "text": [
      "Amal\n",
      "Mohammed\n",
      "Khadijah\n",
      "Abdullah\n",
      "Rawan\n",
      "Faisal\n",
      "Layla\n"
     ]
    }
   ],
   "source": [
    "Build_phone={\n",
    "    \"owner1\" : {\n",
    "    \"Name\" : \"Amal\",\n",
    "    \"Number\" : 1111111111\n",
    "  },\n",
    "  \"owner2\" : {\n",
    "    \"Name\" : \"Mohammed\",\n",
    "    \"Number\" : 2222222222\n",
    "  },\n",
    "  \"owner3\" : {\n",
    "    \"Name\" : \"Khadijah\",\n",
    "    \"Number\" : 3333333333\n",
    "  },\n",
    "   \"owner4\" : {\n",
    "    \"Name\" : \"Abdullah\",\n",
    "    \"Number\" : 4444444444\n",
    "  },\n",
    "  \"owner5\" : {\n",
    "    \"Name\" : \"Rawan\",\n",
    "    \"Number\" : 5555555555\n",
    "  },\n",
    "  \"owner6\" : {\n",
    "    \"Name\" : \"Faisal\",\n",
    "    \"Number\" : 6666666666\n",
    "  },\n",
    "  \"owner7\" : {\n",
    "    \"Name\" : \"Layla\",\n",
    "    \"Number\" : 7777777777\n",
    "  }\n",
    "}\n",
    "\n",
    "for p_id, p_info in Build_phone.items():\n",
    "    print(p_info[\"Name\"])"
   ]
  },
  {
   "cell_type": "code",
   "execution_count": 123,
   "id": "53a41c64",
   "metadata": {},
   "outputs": [
    {
     "name": "stdout",
     "output_type": "stream",
     "text": [
      "Enter the number: 1\n",
      "This is invalid number\n",
      "Enter the number: 9999999999\n",
      "Sorry, the number is not found\n",
      "Enter the number: 7777777777\n",
      "Layla\n"
     ]
    }
   ],
   "source": [
    "#Use while to re-enter the number if it is incorrect\n",
    "\n",
    "lisNumber=[]\n",
    "lisName=[]\n",
    "num=0\n",
    "isfound=True\n",
    "\n",
    "for p_id, p_info in Build_phone.items():\n",
    "    lisNumber.append(p_info[\"Number\"])\n",
    "    lisName.append(p_info[\"Name\"])\n",
    "                \n",
    "x=input(\"Enter the number: \")\n",
    "\n",
    "while (isfound== True):\n",
    "    if len(x)<10 or len(x)>10:\n",
    "        print(\"This is invalid number\")\n",
    "        x=input(\"Enter the number: \")\n",
    "    else:\n",
    "        try:\n",
    "            val=int(x)\n",
    "            if val in lisNumber:\n",
    "                num=lisNumber.index(val)\n",
    "                print(lisName[num])\n",
    "                isfound=False\n",
    "            else:\n",
    "                print(\"Sorry, the number is not found\")\n",
    "                x=input(\"Enter the number: \")\n",
    "        except valueError:\n",
    "            print(isfound)\n",
    "            print(\"This is invalid number\")\n",
    "            x=input(\"Enter the number: \")"
   ]
  },
  {
   "cell_type": "code",
   "execution_count": 126,
   "id": "2079f7dc",
   "metadata": {},
   "outputs": [
    {
     "name": "stdout",
     "output_type": "stream",
     "text": [
      "Enter the number: 7777777777\n",
      "Layla\n"
     ]
    }
   ],
   "source": [
    "lisNumber=[]\n",
    "lisName=[]\n",
    "num=0\n",
    "\n",
    "x=input(\"Enter the number: \")\n",
    "\n",
    "if len(x)<10 or len(x)>10:\n",
    "    print(\"This is invalid number\")\n",
    "else:\n",
    "    try:\n",
    "        x=int(x)\n",
    "        val=int(x)\n",
    "        for p_id, p_info in Build_phone.items():\n",
    "            lisNumber.append(p_info[\"Number\"])\n",
    "            lisName.append(p_info[\"Name\"])\n",
    "        if val in lisNumber:\n",
    "            num=lisNumber.index(val)\n",
    "            print(lisName[num])\n",
    "        else:\n",
    "             print(\"Sorry, the number is not found\")\n",
    "    except valueError:\n",
    "            print(\"This is invalid number\")"
   ]
  },
  {
   "cell_type": "code",
   "execution_count": null,
   "id": "f1fbf3b6",
   "metadata": {},
   "outputs": [],
   "source": []
  }
 ],
 "metadata": {
  "kernelspec": {
   "display_name": "Python 3 (ipykernel)",
   "language": "python",
   "name": "python3"
  },
  "language_info": {
   "codemirror_mode": {
    "name": "ipython",
    "version": 3
   },
   "file_extension": ".py",
   "mimetype": "text/x-python",
   "name": "python",
   "nbconvert_exporter": "python",
   "pygments_lexer": "ipython3",
   "version": "3.9.13"
  }
 },
 "nbformat": 4,
 "nbformat_minor": 5
}
